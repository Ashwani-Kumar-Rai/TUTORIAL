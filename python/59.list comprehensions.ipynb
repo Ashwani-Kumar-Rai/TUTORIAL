{
 "cells": [
  {
   "cell_type": "code",
   "execution_count": null,
   "metadata": {},
   "outputs": [],
   "source": [
    "# list comprehension =  a way to create a new list with less syntax\n",
    "#                       can mimic certain lambda functions, easier to read then lambda function \n",
    "#                       list = [expression for item in iterable]\n",
    "#                       list = [expression for item in iterable if conditional]\n",
    "#                       list = [expression if/else for item in iterable]\n",
    "# --------------------------------------------------------------\n",
    "squares = []                # create an empty list\n",
    "for i in range(1,11):       # create a for loop\n",
    "    squares.append(i * i)    # define what each loop iteration should do\n",
    "print(squares)\n",
    "\n",
    "# create a list AND defines what each loop iteration should do\n",
    "squares = [i * i for i in range(1,11)]\n",
    "print(squares)\n",
    "\n",
    "\n",
    "# --------------------------------------------------------------"
   ]
  },
  {
   "cell_type": "code",
   "execution_count": 1,
   "metadata": {},
   "outputs": [
    {
     "name": "stdout",
     "output_type": "stream",
     "text": [
      "[100, 90, 80, 70, 60, 'FAILED', 'FAILED', 'FAILED', 'FAILED', 'FAILED']\n"
     ]
    }
   ],
   "source": [
    "students = [100,90,80,70,60,50,40,30,20,0]\n",
    "\n",
    "passed_students = [i if i>= 60 else \"FAILED\" for i in students] # COOL\n",
    "print(passed_students)"
   ]
  }
 ],
 "metadata": {
  "kernelspec": {
   "display_name": "Python 3",
   "language": "python",
   "name": "python3"
  },
  "language_info": {
   "codemirror_mode": {
    "name": "ipython",
    "version": 3
   },
   "file_extension": ".py",
   "mimetype": "text/x-python",
   "name": "python",
   "nbconvert_exporter": "python",
   "pygments_lexer": "ipython3",
   "version": "3.10.6"
  },
  "orig_nbformat": 4
 },
 "nbformat": 4,
 "nbformat_minor": 2
}
