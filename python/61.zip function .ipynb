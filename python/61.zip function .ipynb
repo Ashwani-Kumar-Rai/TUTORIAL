{
 "cells": [
  {
   "cell_type": "code",
   "execution_count": 5,
   "metadata": {},
   "outputs": [
    {
     "name": "stdout",
     "output_type": "stream",
     "text": [
      "<class 'list'>\n",
      "('Dude', 'p@ssword')\n",
      "('Bro', 'abc123')\n",
      "('Mister', 'guest')\n",
      "Dude : p@ssword\n",
      "Bro : abc123\n",
      "Mister : guest\n",
      "('Dude', 'p@ssword', '1/1/2021')\n",
      "('Bro', 'abc123', '1/2/2021')\n",
      "('Mister', 'guest', '1/3/2021')\n"
     ]
    }
   ],
   "source": [
    "# zip(*iterables) =  aggregate elements from two or more iterables (list, tuples, sets, etc.)\n",
    "#                    creates a zip object with paired elements stored in tuples for each element\n",
    "\n",
    "\n",
    "\n",
    "# zip function will take a varying number of iterables \n",
    "usernames = [\"Dude\", \"Bro\", \"Mister\"]\n",
    "passwords = (\"p@ssword\", \"abc123\", \"guest\")\n",
    "login_dates = [\"1/1/2021\",\"1/2/2021\",\"1/3/2021\"]\n",
    "\n",
    "# --------------------------------------\n",
    "users = list(zip(usernames,passwords)) # users is a zip object \n",
    "print(type(users)) # users is an an zip object <class 'list'>\n",
    "\n",
    "for i in users:\n",
    "    print(i)\n",
    "\n",
    "# --------------------------------------\n",
    "users = dict(zip(usernames,passwords)) # casting zip objects as dictionary\n",
    "\n",
    "for key,value in users.items():\n",
    "    print(key+\" : \"+value)\n",
    "\n",
    "# --------------------------------------\n",
    "users = zip(usernames,passwords,login_dates)\n",
    "\n",
    "for i in users:\n",
    "    print(i)\n",
    "\n"
   ]
  }
 ],
 "metadata": {
  "kernelspec": {
   "display_name": "Python 3",
   "language": "python",
   "name": "python3"
  },
  "language_info": {
   "codemirror_mode": {
    "name": "ipython",
    "version": 3
   },
   "file_extension": ".py",
   "mimetype": "text/x-python",
   "name": "python",
   "nbconvert_exporter": "python",
   "pygments_lexer": "ipython3",
   "version": "3.10.7"
  },
  "orig_nbformat": 4
 },
 "nbformat": 4,
 "nbformat_minor": 2
}
