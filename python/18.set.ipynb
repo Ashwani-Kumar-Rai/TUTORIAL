{
 "cells": [
  {
   "cell_type": "code",
   "execution_count": null,
   "metadata": {},
   "outputs": [],
   "source": [
    "f'''\n",
    "Array       cars = ['Ford','volvo','BMW']\n",
    "-> group of elements of SAME DATA TYPE\n",
    "-> array uses LESS MEMORY THEN LIST\n",
    "-> MUTABLE i.e : YOU CAN CHANGE THE ELEMENTS\n",
    "\n",
    "\n",
    "\n",
    "list        = ['abc',34 , TRUE , 'male']\n",
    "list2 = ['apple','mango','banana']\n",
    "-> ANY DATATYPE :same or different\n",
    "-> indexed ordered\n",
    "-> MUTABLE i.e : YOU CAN CHANGE THE ELEMENTS\n",
    "-> List uses more memory than array\n",
    "\n",
    "\n",
    "Tuple       tuple1 = ('abc' , 34 , true , 'male')\n",
    "tuple2 = (1,5,7,9)\n",
    "-> ANY DATATYPE : same or different \n",
    "-> IMMUTABLE : can't ,modify its elements \n",
    "-> tuple uses less memory than list \n",
    "-> strings are immutable\n",
    "-> trying to change will give new tuple \n",
    "\n",
    "\n",
    "\n",
    "Set       set1 = {'abc',34,true,40,'male'}\n",
    "          set2 = {1,5,7,9,3}\n",
    "-> any-datatype : unordered ,unique elements \n",
    "-> mutable\n",
    "-> unordered : can not access elment using index \n",
    "\n",
    "Dictionary    dict ={'brand':'ford','id':7}\n",
    "-> key value : pair kind of data \n",
    "-> unordered \n",
    "-> mutable           \n",
    "\n",
    "\n",
    "SPACE AND TIME COMPLEXITY : ARRAY > LIST > TUPLE > DICTIONARY > SET\n",
    "'''\n",
    "\n",
    "\n",
    "\n",
    "\n",
    "'''  REAL LIFE EXAMPLE \n",
    "\n",
    "    List: A grocery list is an example of a list. You can modify the list by adding or removing items as you shop.\n",
    "\n",
    "    Tuple: An example of a tuple is a person's name and date of birth. Once a person is born, their date of birth does not change,\n",
    "            so this information is stored as a tuple.\n",
    "\n",
    "    Array: An example of an array is a spreadsheet of financial data, where each column represents a specific type of data, such as revenue,\n",
    "            expenses, or profits.\n",
    "\n",
    "    Set: A set could be used to represent a group of unique email addresses, where each address is only listed once.\n",
    "\n",
    "    Dictionary: A phonebook is an example of a dictionary. The names are the keys, and the associated phone numbers are the values.\n",
    "            When you look up a name, you can quickly find the corresponding phone number.\n",
    "\n",
    "'''"
   ]
  },
  {
   "cell_type": "code",
   "execution_count": 14,
   "metadata": {},
   "outputs": [
    {
     "name": "stdout",
     "output_type": "stream",
     "text": [
      "spoon\n",
      "knife\n",
      "fork\n",
      "\n",
      "after adding napkin\n",
      "napkin\n",
      "knife\n",
      "fork\n"
     ]
    }
   ],
   "source": [
    "# set : collection which is unordered , unindexed ,  NO DUPLICATE VALUES\n",
    "# a set is faster than a list : if you need to check if something is within a set compared to a list \n",
    "\n",
    "utensils = {\"fork\",\"spoon\",\"knife\",\"knife\"} # unordered : the order changed\n",
    "dishes = {}\n",
    "for x in utensils:\n",
    "    print(x)\n",
    "\n",
    "# some set functions\n",
    "utensils.add(\"napkin\")   \n",
    "utensils.remove(\"spoon\")\n",
    "print(\"\\nafter adding napkin\")\n",
    "\n",
    "for x in utensils:\n",
    "    print(x)\n",
    "\n",
    "utensils.clear()\n"
   ]
  },
  {
   "cell_type": "code",
   "execution_count": 20,
   "metadata": {},
   "outputs": [
    {
     "name": "stdout",
     "output_type": "stream",
     "text": [
      "spoon\n",
      "cup\n",
      "fork\n",
      "bowl\n",
      "plate\n",
      "knife\n"
     ]
    }
   ],
   "source": [
    "utensils = {\"fork\",\"spoon\",\"knife\",\"knife\"} \n",
    "dishes = {\"bowl\",\"plate\",\"cup\"}\n",
    "\n",
    "# add one set to another\n",
    "utensils.update(dishes)\n",
    "\n",
    "for x in utensils:\n",
    "    print(x)"
   ]
  },
  {
   "cell_type": "code",
   "execution_count": 24,
   "metadata": {},
   "outputs": [
    {
     "name": "stdout",
     "output_type": "stream",
     "text": [
      "spoon\n",
      "cup\n",
      "fork\n",
      "bowl\n",
      "plate\n",
      "knife\n",
      "{'spoon', 'knife', 'fork'}\n",
      "{'plate'}\n"
     ]
    }
   ],
   "source": [
    "utensils = {\"fork\",\"spoon\",\"plate\",\"knife\"} \n",
    "dishes = {\"bowl\",\"plate\",\"cup\"}\n",
    "\n",
    "# join two sets to create a new set entirely\n",
    "dinner_table=utensils.union(dishes)\n",
    "\n",
    "for x in dinner_table:\n",
    "    print(x)\n",
    "\n",
    "# what utensils has that dishes doesn't : difference method\n",
    "print(utensils.difference(dishes))\n",
    "\n",
    "\n",
    "# what they have in common\n",
    "print(utensils.intersection(dishes))\n",
    "\n"
   ]
  }
 ],
 "metadata": {
  "kernelspec": {
   "display_name": "Python 3",
   "language": "python",
   "name": "python3"
  },
  "language_info": {
   "codemirror_mode": {
    "name": "ipython",
    "version": 3
   },
   "file_extension": ".py",
   "mimetype": "text/x-python",
   "name": "python",
   "nbconvert_exporter": "python",
   "pygments_lexer": "ipython3",
   "version": "3.10.6"
  },
  "orig_nbformat": 4,
  "vscode": {
   "interpreter": {
    "hash": "916dbcbb3f70747c44a77c7bcd40155683ae19c65e1c03b4aa3499c5328201f1"
   }
  }
 },
 "nbformat": 4,
 "nbformat_minor": 2
}
