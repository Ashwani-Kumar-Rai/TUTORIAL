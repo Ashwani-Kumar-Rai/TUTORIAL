{
 "cells": [
  {
   "cell_type": "code",
   "execution_count": 1,
   "metadata": {},
   "outputs": [
    {
     "ename": "NameError",
     "evalue": "name '_name_' is not defined",
     "output_type": "error",
     "traceback": [
      "\u001b[1;31m---------------------------------------------------------------------------\u001b[0m",
      "\u001b[1;31mNameError\u001b[0m                                 Traceback (most recent call last)",
      "Cell \u001b[1;32mIn[1], line 39\u001b[0m\n\u001b[0;32m     35\u001b[0m     \u001b[39mprint\u001b[39m(\u001b[39m\"\u001b[39m\u001b[39mDone!\u001b[39m\u001b[39m\"\u001b[39m)\n\u001b[0;32m     36\u001b[0m     \u001b[39mprint\u001b[39m(\u001b[39m\"\u001b[39m\u001b[39mfinished in:\u001b[39m\u001b[39m\"\u001b[39m, time\u001b[39m.\u001b[39mperf_counter(), \u001b[39m\"\u001b[39m\u001b[39mseconds\u001b[39m\u001b[39m\"\u001b[39m)\n\u001b[1;32m---> 39\u001b[0m \u001b[39mif\u001b[39;00m _name_ \u001b[39m==\u001b[39m \u001b[39m'\u001b[39m\u001b[39m__main__\u001b[39m\u001b[39m'\u001b[39m:\n\u001b[0;32m     40\u001b[0m     main()\n\u001b[0;32m     42\u001b[0m \u001b[39m# *********************************\u001b[39;00m\n",
      "\u001b[1;31mNameError\u001b[0m: name '_name_' is not defined"
     ]
    }
   ],
   "source": [
    "# *********************************\n",
    "\n",
    "# Python multiprocessing\n",
    "\n",
    "# *********************************\n",
    "\n",
    "# multiprocessing = running tasks in parallel on different cpu cores, bypasses GIL used for threading\n",
    "\n",
    "#                   multiprocessing = better for cpu bound tasks (heavy cpu usage)\n",
    "\n",
    "#                   multithreading = better for io bound tasks (waiting around)\n",
    "\n",
    "from multiprocessing import Process, cpu_count\n",
    "import time\n",
    "\n",
    "def counter(num):\n",
    "    count = 0\n",
    "    while count < num:\n",
    "        count += 1\n",
    "\n",
    "def main():\n",
    "\n",
    "    print(\"cpu count:\", cpu_count())\n",
    "    a = Process(target=counter, args=(500000000,))\n",
    "    b = Process(target=counter, args=(500000000,))\n",
    "\n",
    "    a.start()\n",
    "    b.start()\n",
    "\n",
    "    print(\"processing...\")\n",
    "\n",
    "    a.join()\n",
    "    b.join()\n",
    "    \n",
    "    print(\"Done!\")\n",
    "    print(\"finished in:\", time.perf_counter(), \"seconds\")\n",
    "\n",
    "\n",
    "if _name_ == '__main__':\n",
    "    main()\n",
    "    \n",
    "# *********************************"
   ]
  }
 ],
 "metadata": {
  "kernelspec": {
   "display_name": "Python 3",
   "language": "python",
   "name": "python3"
  },
  "language_info": {
   "codemirror_mode": {
    "name": "ipython",
    "version": 3
   },
   "file_extension": ".py",
   "mimetype": "text/x-python",
   "name": "python",
   "nbconvert_exporter": "python",
   "pygments_lexer": "ipython3",
   "version": "3.10.7"
  },
  "orig_nbformat": 4,
  "vscode": {
   "interpreter": {
    "hash": "916dbcbb3f70747c44a77c7bcd40155683ae19c65e1c03b4aa3499c5328201f1"
   }
  }
 },
 "nbformat": 4,
 "nbformat_minor": 2
}
