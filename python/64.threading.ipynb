{
 "cells": [
  {
   "cell_type": "code",
   "execution_count": null,
   "metadata": {},
   "outputs": [],
   "source": [
    "# we can have one thread for loading and one thread for displaying data on an app \n",
    "# (user input with countdown timing) we can have one thread incharge of user input ,another thread for countdown\n",
    "    #- timing\n",
    " "
   ]
  },
  {
   "cell_type": "code",
   "execution_count": 13,
   "metadata": {},
   "outputs": [
    {
     "name": "stdout",
     "output_type": "stream",
     "text": [
      "You eat breakfast\n",
      "You drank coffee\n",
      "You finish studying\n"
     ]
    }
   ],
   "source": [
    "# ******************************************************\n",
    "# Python threading tutorial\n",
    "# ******************************************************\n",
    "# thread =  a flow of execution. Like a separate order of instructions . \n",
    "#                  However each thread takes a turn running to achieve concurrency\n",
    "#                  GIL = (global interpreter lock),\n",
    "#                  allows only one thread to hold the control of the Python interpreter at any one time\n",
    "\n",
    "# cpu bound = program/task spends most of it's time waiting for internal events (CPU intensive)\n",
    "#             use multiprocessing ...<for cup bound tasks -> use mutliprocessing>\n",
    "\n",
    "# io bound = program/task spends most of it's time waiting for external events (user input, web scraping)\n",
    "#            use multithreading ...<for io bound tasks -> use mutliprocessing>\n",
    "\n",
    "import threading\n",
    "import time\n",
    "\n",
    "# these tasks are going to be executed sequentially : for us to go to the next function we need to first execute the \n",
    "    #- current function <we are doing this in order >\n",
    "\n",
    "def eat_breakfast():\n",
    "    time.sleep(3)\n",
    "    print(\"You eat breakfast\")\n",
    "\n",
    "\n",
    "def drink_coffee():\n",
    "    time.sleep(4)\n",
    "    print(\"You drank coffee\")\n",
    "\n",
    "\n",
    "def study():\n",
    "    time.sleep(5)\n",
    "    print(\"You finish studying\")\n",
    "\n",
    "\n",
    "\n",
    "eat_breakfast()\n",
    "drink_coffee()\n",
    "study()"
   ]
  },
  {
   "cell_type": "code",
   "execution_count": 22,
   "metadata": {},
   "outputs": [
    {
     "name": "stdout",
     "output_type": "stream",
     "text": [
      "You eat breakfast\n",
      "You drank coffee\n",
      "You finish studying\n"
     ]
    }
   ],
   "source": [
    "# Multi threading ->(multitasking ) doing all the things at the same time < एक साथ, एक ही समय> \n",
    "\n",
    "# if we have 3 seperate functions (we can create three additional threads ,each thread responsible for each task )\n",
    "    #- and the main thread running in the background that will complete the rest of the program . \n",
    "\n",
    "def eat_breakfast():\n",
    "    time.sleep(3)\n",
    "    print(\"You eat breakfast\")\n",
    "\n",
    "\n",
    "def drink_coffee():\n",
    "    time.sleep(4)\n",
    "    print(\"You drank coffee\")\n",
    "\n",
    "\n",
    "def study():\n",
    "    time.sleep(5)\n",
    "    print(\"You finish studying\")\n",
    "\n",
    "# Now we have a thread dedicated to each function these will run concurrently not sequentially \n",
    "\n",
    "x = threading.Thread(target=eat_breakfast, args=()) # this thread is responsible for executing\n",
    "x.start() # to start a thread , this thread is responsible for executing eat_breakfast function \n",
    "\n",
    "y = threading.Thread(target=drink_coffee, args=())\n",
    "y.start()\n",
    "\n",
    "z = threading.Thread(target=study, args=())\n",
    "z.start()\n",
    "\n",
    "\n",
    "x.join() # now our main thread has to wait for x also to finish \n",
    "y.join()\n",
    "z.join()\n",
    "\n",
    "\n",
    "\n",
    "# print(threading.active_count())\n",
    "# print(threading.enumerate())\n",
    "# print(time.perf_counter())\n",
    "\n",
    "# ******************************************************"
   ]
  }
 ],
 "metadata": {
  "kernelspec": {
   "display_name": "Python 3",
   "language": "python",
   "name": "python3"
  },
  "language_info": {
   "codemirror_mode": {
    "name": "ipython",
    "version": 3
   },
   "file_extension": ".py",
   "mimetype": "text/x-python",
   "name": "python",
   "nbconvert_exporter": "python",
   "pygments_lexer": "ipython3",
   "version": "3.10.7"
  },
  "orig_nbformat": 4,
  "vscode": {
   "interpreter": {
    "hash": "916dbcbb3f70747c44a77c7bcd40155683ae19c65e1c03b4aa3499c5328201f1"
   }
  }
 },
 "nbformat": 4,
 "nbformat_minor": 2
}
