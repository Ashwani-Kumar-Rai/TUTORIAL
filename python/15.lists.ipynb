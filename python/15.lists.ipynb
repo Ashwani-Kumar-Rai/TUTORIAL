{
 "cells": [
  {
   "cell_type": "code",
   "execution_count": null,
   "metadata": {},
   "outputs": [],
   "source": [
    "f'''\n",
    "Array       cars = ['Ford','volvo','BMW']\n",
    "-> group of elements of SAME DATA TYPE\n",
    "-> array uses LESS MEMORY THEN LIST\n",
    "-> MUTABLE i.e : YOU CAN CHANGE THE ELEMENTS\n",
    "\n",
    "\n",
    "\n",
    "list        = ['abc',34 , TRUE , 'male']\n",
    "list2 = ['apple','mango','banana']\n",
    "-> ANY DATATYPE :same or different\n",
    "-> indexed ordered\n",
    "-> MUTABLE i.e : YOU CAN CHANGE THE ELEMENTS\n",
    "-> List uses more memory than array\n",
    "\n",
    "\n",
    "\n",
    "Tuple       tuple1 = ('abc' , 34 , true , 'male')\n",
    "tuple2 = (1,5,7,9)\n",
    "-> ANY DATATYPE : same or different \n",
    "-> IMMUTABLE : can't ,modify its elements \n",
    "-> tuple uses less memory than list \n",
    "-> strings are immutable\n",
    "-> trying to change will give new tuple \n",
    "\n",
    "\n",
    "\n",
    "Set       set1 = {'abc',34,true,40,'male'}\n",
    "          set2 = {1,5,7,9,3}\n",
    "-> any-datatype : unordered ,unique elements \n",
    "-> mutable\n",
    "-> unordered : can not access elment using index \n",
    "\n",
    "Dictionary    dict ={'brand':'ford','id':7}\n",
    "-> key value : pair kind of data \n",
    "-> unordered \n",
    "-> mutable           \n",
    "\n",
    "\n",
    "\n",
    "SPACE AND TIME COMPLEXITY : ARRAY > LIST > TUPLE > DICTIONARY > SET\n",
    "'''\n",
    "\n",
    "\n",
    "\n",
    "'''  REAL LIFE EXAMPLE \n",
    "\n",
    "    List: A grocery list is an example of a list. You can modify the list by adding or removing items as you shop.\n",
    "\n",
    "    Tuple: An example of a tuple is a person's name and date of birth. Once a person is born, their date of birth does not change,\n",
    "            so this information is stored as a tuple.\n",
    "\n",
    "    Array: An example of an array is a spreadsheet of financial data, where each column represents a specific type of data, such as revenue,\n",
    "            expenses, or profits.\n",
    "\n",
    "    Set: A set could be used to represent a group of unique email addresses, where each address is only listed once.\n",
    "\n",
    "    Dictionary: A phonebook is an example of a dictionary. The names are the keys, and the associated phone numbers are the values.\n",
    "            When you look up a name, you can quickly find the corresponding phone number.\n",
    "\n",
    "'''"
   ]
  },
  {
   "cell_type": "code",
   "execution_count": 7,
   "metadata": {},
   "outputs": [
    {
     "name": "stdout",
     "output_type": "stream",
     "text": [
      "['pizza', 'hotdog', 'hand burgar']\n",
      "pizza\n",
      "['sushi', 'hotdog', 'hand burgar']\n",
      "sushi\n",
      "hotdog\n",
      "hand burgar\n"
     ]
    }
   ],
   "source": [
    "# lists : used to store multiple items in a single variable\n",
    "# you can change the list after you have declared it\n",
    "\n",
    "food=[\"pizza\",\"hotdog\",\"hand burgar\"] #  each item in the list is called element\n",
    "print(food)\n",
    "print(food[0])\n",
    "# print(food[3]) # index out of range error\n",
    "\n",
    "food[0]=\"sushi\"\n",
    "print(food)\n",
    "\n",
    "for x in food:\n",
    "    print(x)"
   ]
  },
  {
   "cell_type": "code",
   "execution_count": 14,
   "metadata": {},
   "outputs": [
    {
     "name": "stdout",
     "output_type": "stream",
     "text": [
      "['pizza', 'hotdog', 'hand burgar', 'ice cream']\n",
      "['pizza', 'hand burgar', 'ice cream']\n",
      "['pizza', 'hand burgar']\n",
      "['cake', 'pizza', 'hand burgar']\n",
      "['cake', 'hand burgar', 'pizza']\n"
     ]
    }
   ],
   "source": [
    "# usefull functions of list\n",
    "food=[\"pizza\",\"hotdog\",\"hand burgar\"] \n",
    "\n",
    "food.append(\"ice cream\") # append : add at the end\n",
    "print(food)\n",
    "\n",
    "food.remove(\"hotdog\") # remove : a specific element\n",
    "print(food)\n",
    "\n",
    "food.pop() # pop: delete from the end\n",
    "print(food)\n",
    "\n",
    "food.insert(0,\"cake\") # insert : at index zero we have cake\n",
    "print(food)\n",
    "\n",
    "food.sort() # sort : will sort the elements alphabetically\n",
    "print(food)\n",
    "\n",
    "food.clear() # clear() : will delete all the elements from the list , so nothing will get printed\n",
    "print(food)"
   ]
  }
 ],
 "metadata": {
  "kernelspec": {
   "display_name": "Python 3",
   "language": "python",
   "name": "python3"
  },
  "language_info": {
   "codemirror_mode": {
    "name": "ipython",
    "version": 3
   },
   "file_extension": ".py",
   "mimetype": "text/x-python",
   "name": "python",
   "nbconvert_exporter": "python",
   "pygments_lexer": "ipython3",
   "version": "3.10.6"
  },
  "orig_nbformat": 4,
  "vscode": {
   "interpreter": {
    "hash": "916dbcbb3f70747c44a77c7bcd40155683ae19c65e1c03b4aa3499c5328201f1"
   }
  }
 },
 "nbformat": 4,
 "nbformat_minor": 2
}
